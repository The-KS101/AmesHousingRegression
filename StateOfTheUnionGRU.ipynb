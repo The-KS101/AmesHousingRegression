{
  "nbformat": 4,
  "nbformat_minor": 0,
  "metadata": {
    "colab": {
      "name": "Shakespeare GRU.ipynb",
      "provenance": [],
      "collapsed_sections": [],
      "toc_visible": true,
      "authorship_tag": "ABX9TyPlAtCYGLKo0u/7A1RhTzhi",
      "include_colab_link": true
    },
    "kernelspec": {
      "name": "python3",
      "display_name": "Python 3"
    }
  },
  "cells": [
    {
      "cell_type": "markdown",
      "metadata": {
        "id": "view-in-github",
        "colab_type": "text"
      },
      "source": [
        "<a href=\"https://colab.research.google.com/github/The-KS101/AmesHousingRegression/blob/master/StateOfTheUnionGRU.ipynb\" target=\"_parent\"><img src=\"https://colab.research.google.com/assets/colab-badge.svg\" alt=\"Open In Colab\"/></a>"
      ]
    },
    {
      "cell_type": "markdown",
      "metadata": {
        "id": "f6sRxu3H4gI3",
        "colab_type": "text"
      },
      "source": [
        "###Using time series Deep Learning tools to build a character Level Language Model\n",
        "####Creating an RNN model to derive a language model \n",
        "#####Import the necessary libraries\n",
        "\n"
      ]
    },
    {
      "cell_type": "code",
      "metadata": {
        "id": "6hA-6AFP3qmG",
        "colab_type": "code",
        "colab": {
          "base_uri": "https://localhost:8080/",
          "height": 34
        },
        "outputId": "5eabfa0a-61dc-4e93-a293-f799fbcb4d81"
      },
      "source": [
        "import sys\n",
        "import numpy as np\n",
        "import pickle\n",
        "import random\n",
        "import re\n",
        "import os\n",
        "from nltk.corpus import gutenberg\n",
        "from keras.models import Sequential\n",
        "from keras.layers import Dense, Bidirectional, Dropout\n",
        "from keras.layers import BatchNormalization, SimpleRNN, GRU, LSTM\n",
        "from keras.callbacks import LambdaCallback, ModelCheckpoint\n",
        "from keras.utils.data_utils import get_file\n",
        "from __future__ import print_function"
      ],
      "execution_count": null,
      "outputs": [
        {
          "output_type": "stream",
          "text": [
            "Using TensorFlow backend.\n"
          ],
          "name": "stderr"
        }
      ]
    },
    {
      "cell_type": "markdown",
      "metadata": {
        "id": "wlgkmYsb8vUh",
        "colab_type": "text"
      },
      "source": [
        "Firstly we download the state union pack from nltk corpus which contains various text corpus of state union documents."
      ]
    },
    {
      "cell_type": "code",
      "metadata": {
        "id": "-SuMF49L7rIY",
        "colab_type": "code",
        "colab": {
          "base_uri": "https://localhost:8080/",
          "height": 69
        },
        "outputId": "494feb40-2124-416e-ba04-6cf8a72dedab"
      },
      "source": [
        "import nltk\n",
        "nltk.download('state_union')"
      ],
      "execution_count": null,
      "outputs": [
        {
          "output_type": "stream",
          "text": [
            "[nltk_data] Downloading package state_union to /root/nltk_data...\n",
            "[nltk_data]   Unzipping corpora/state_union.zip.\n"
          ],
          "name": "stdout"
        },
        {
          "output_type": "execute_result",
          "data": {
            "text/plain": [
              "True"
            ]
          },
          "metadata": {
            "tags": []
          },
          "execution_count": 3
        }
      ]
    },
    {
      "cell_type": "markdown",
      "metadata": {
        "id": "1VPxFIE49Rk7",
        "colab_type": "text"
      },
      "source": [
        "Here we import all the documents in the state union folder and get all the words into a text variable which we will process for our train and test set."
      ]
    },
    {
      "cell_type": "code",
      "metadata": {
        "id": "gisRXPP24e2B",
        "colab_type": "code",
        "colab": {
          "base_uri": "https://localhost:8080/",
          "height": 51
        },
        "outputId": "bfb4ead6-a611-4399-9f48-79cd8f10f295"
      },
      "source": [
        "corpora_dir = '/root/nltk_data/corpora/state_union'\n",
        "file_list = []\n",
        "docs = []\n",
        "\n",
        "for root, _, files in os.walk(corpora_dir):\n",
        "  for filename in files:\n",
        "    file_list.append(os.path.join(corpora_dir, filename))\n",
        "\n",
        "print('Read {} files'.format(len(file_list)))\n",
        "for files in file_list:\n",
        "  with open(files, 'r') as fin:\n",
        "    try:\n",
        "      str_fin = fin.read().lower().replace('\\n', '')\n",
        "      docs.append(str_fin)\n",
        "    except UnicodeDecodeError:\n",
        "      pass\n",
        "\n",
        "text = ' '.join(docs)\n",
        "print('Corpus Length is ' + str(len(text)))"
      ],
      "execution_count": null,
      "outputs": [
        {
          "output_type": "stream",
          "text": [
            "Read 66 files\n",
            "Corpus Length is 1915949\n"
          ],
          "name": "stdout"
        }
      ]
    },
    {
      "cell_type": "markdown",
      "metadata": {
        "id": "iLkRyMKT-c4M",
        "colab_type": "text"
      },
      "source": [
        "Now we map our letters to numbers which, as we know, is what our computer program runs through. To do this we will create 2 dictionaries mapping each letter to a number and each number to a letter for ease."
      ]
    },
    {
      "cell_type": "code",
      "metadata": {
        "id": "w1lw1GA3-vjK",
        "colab_type": "code",
        "colab": {
          "base_uri": "https://localhost:8080/",
          "height": 34
        },
        "outputId": "e5532705-9620-4c86-be66-5388f9fb4975"
      },
      "source": [
        "characters = sorted(list(set(text)))\n",
        "print('Total Characters: ', len(characters))\n",
        "charIndices = dict((l, i) for i, l in enumerate(characters))\n",
        "indicesChar = dict((i, l) for i, l in enumerate(characters))"
      ],
      "execution_count": null,
      "outputs": [
        {
          "output_type": "stream",
          "text": [
            "Total Characters:  57\n"
          ],
          "name": "stdout"
        }
      ]
    },
    {
      "cell_type": "markdown",
      "metadata": {
        "id": "SWDisLaG_voe",
        "colab_type": "text"
      },
      "source": [
        "Now we break up te text into smaller splits which we will feed our neural network. This splits will contain 40 input characters and 1 output character per sequence."
      ]
    },
    {
      "cell_type": "code",
      "metadata": {
        "id": "ZcmrG9VFAFD2",
        "colab_type": "code",
        "colab": {}
      },
      "source": [
        "training_seq = []\n",
        "output_char = []\n",
        "seq_length, stride = 40, 3\n",
        "for i in range(0, len(text)-seq_length, stride):\n",
        "  training_seq.append(text[i : i +seq_length])\n",
        "  output_char.append(text[i + seq_length])"
      ],
      "execution_count": null,
      "outputs": []
    },
    {
      "cell_type": "code",
      "metadata": {
        "id": "JIg9GawzB0xM",
        "colab_type": "code",
        "colab": {
          "base_uri": "https://localhost:8080/",
          "height": 103
        },
        "outputId": "7cb188fe-de51-400b-b8b7-8554debf5d7b"
      },
      "source": [
        "print('Number of training rows: ', len(training_seq))\n",
        "print('First Sequence: ', training_seq[0])\n",
        "print('Next char: ', output_char[0])\n",
        "print('Second Sequence: ', training_seq[1])\n",
        "print('Next char: ', output_char[1])"
      ],
      "execution_count": null,
      "outputs": [
        {
          "output_type": "stream",
          "text": [
            "Number of training rows:  638637\n",
            "First Sequence:  president lyndon b. johnson's annual mes\n",
            "Next char:  s\n",
            "Second Sequence:  sident lyndon b. johnson's annual messag\n",
            "Next char:  e\n"
          ],
          "name": "stdout"
        }
      ]
    },
    {
      "cell_type": "markdown",
      "metadata": {
        "id": "A1oCsvuPEL3C",
        "colab_type": "text"
      },
      "source": [
        "Now we vectorize our input texts and one hot encode each variable."
      ]
    },
    {
      "cell_type": "code",
      "metadata": {
        "id": "fzZw206JELGj",
        "colab_type": "code",
        "colab": {
          "base_uri": "https://localhost:8080/",
          "height": 69
        },
        "outputId": "4823362e-ffb6-4e6a-80a3-ad0356be94ac"
      },
      "source": [
        "x = np.zeros((len(training_seq), seq_length, len(characters)), dtype=np.bool)\n",
        "y = np.zeros((len(training_seq), len(characters)), dtype=np.bool)\n",
        "for i, sequence in enumerate(training_seq):\n",
        "  for j, char in enumerate(sequence):\n",
        "    x[i, j, charIndices[char]] = 1\n",
        "  y[i, charIndices[output_char[i]]] = 1\n",
        "print('Data Vectorization Completed.')\n",
        "print('Feature Vector Space: ', x.shape)\n",
        "print('Label vector space: ', y.shape)\n"
      ],
      "execution_count": null,
      "outputs": [
        {
          "output_type": "stream",
          "text": [
            "Data Vectorization Completed.\n",
            "Feature Vector Space:  (638637, 40, 57)\n",
            "Label vector space:  (638637, 57)\n"
          ],
          "name": "stdout"
        }
      ]
    },
    {
      "cell_type": "markdown",
      "metadata": {
        "id": "90aYjkxYu2Us",
        "colab_type": "text"
      },
      "source": [
        "We now creat a function that uses threshold sampling to redistribute the softmax prediction probabilitites of our model."
      ]
    },
    {
      "cell_type": "code",
      "metadata": {
        "id": "HrqRWiSJvOIs",
        "colab_type": "code",
        "colab": {}
      },
      "source": [
        "def sample(softmax_predictions, sample_threshold=0.1):\n",
        "  softmax_preds = np.asarray(softmax_predictions).astype('float64')\n",
        "  log_preds = np.log(softmax_preds)/sample_threshold\n",
        "  exp_preds = np.exp(log_preds)\n",
        "  norm_preds = exp_preds/np.sum(exp_preds)\n",
        "  prob = np.random.multinomial(1, norm_preds, 1)\n",
        "  return np.argmax(prob)"
      ],
      "execution_count": null,
      "outputs": []
    },
    {
      "cell_type": "markdown",
      "metadata": {
        "id": "Ndgq0-xW0xvu",
        "colab_type": "text"
      },
      "source": [
        "Now we build our neural network, we will create multiple neural networks to test their performance in generating texts with respect to Hamlet."
      ]
    },
    {
      "cell_type": "code",
      "metadata": {
        "id": "Q4EY6z2X0w8m",
        "colab_type": "code",
        "colab": {}
      },
      "source": [
        "#First we create a callback function\n",
        "def on_epoch_end(epoch, _):\n",
        "  global model, model_name\n",
        "  print()\n",
        "  print('----- Generating text after Epoch: {}'.format(epoch))\n",
        "  start_index = random.randint(0, len(text) - seq_length - 1)\n",
        "  end_index = start_index + seq_length\n",
        "  sampThresh = [0.2, 0.5, 1.0, 1.2]\n",
        "  for thresh in sampThresh:\n",
        "    print('----Sampling Threshold : ', thresh)\n",
        "    generated = ''\n",
        "    sentence = text[start_index:end_index]\n",
        "    generated += sentence\n",
        "    print('Input sequence to generate from \"{}\" '.format(sentence))\n",
        "    sys.stdout.write(generated)\n",
        "    for i in range(400):\n",
        "      x_pred = np.zeros((1, seq_length, len(characters)))\n",
        "      for n, char in enumerate(sentence):\n",
        "        x_pred[0, n, charIndices[char]] = 1\n",
        "      preds = model.predict(x_pred, verbose=0)[0]\n",
        "      next_index = sample(preds, thresh)\n",
        "      next_char = indicesChar[next_index]\n",
        "      generated += next_char\n",
        "      sentence = sentence[1:] + next_char\n",
        "      sys.stdout.write(next_char)\n",
        "      sys.stdout.flush()\n",
        "    print()\n",
        "\n",
        "print_callback = LambdaCallback(on_epoch_end=on_epoch_end)"
      ],
      "execution_count": null,
      "outputs": []
    },
    {
      "cell_type": "markdown",
      "metadata": {
        "id": "tKqU9tAgvAQT",
        "colab_type": "text"
      },
      "source": [
        "Now we create a helper function to train, sample and save a list of RNN models.\n"
      ]
    },
    {
      "cell_type": "code",
      "metadata": {
        "id": "ByJgT-xZvM5k",
        "colab_type": "code",
        "colab": {}
      },
      "source": [
        "def test_models(lists, epochs=10):\n",
        "  global model, model_name\n",
        "\n",
        "  for net in lists:\n",
        "    print('Initiating Compilation...')\n",
        "    model = net()\n",
        "    model_name = re.split(' ', str(net))[1]\n",
        "    fp = '/content/sample_data/{}.h5'.format(model_name)\n",
        "    checkpoint = ModelCheckpoint(fp, monitor='loss',\n",
        "                                 verbose=0, save_best_only=True, mode='min')\n",
        "    model.compile(loss='categorical_crossentropy', optimizer='rmsprop')\n",
        "    print('Compiled: ', str(model_name))\n",
        "    network = model.fit(x, y, batch_size=128,\n",
        "                        epochs=epochs, callbacks=[print_callback, checkpoint])\n",
        "    model.summary()\n",
        "    with open('/content/sample_data/{}hist.pkl'.format(model_name)\n",
        "              , 'wb') as file_pi:\n",
        "      pickle.dump(model.history, file_pi)"
      ],
      "execution_count": null,
      "outputs": []
    },
    {
      "cell_type": "markdown",
      "metadata": {
        "id": "oWzVc3W2yyDe",
        "colab_type": "text"
      },
      "source": [
        "Now we create multiple RNNs and GRUs to test the output of various neural networks."
      ]
    },
    {
      "cell_type": "code",
      "metadata": {
        "id": "X4TCHgmOy5Ey",
        "colab_type": "code",
        "colab": {}
      },
      "source": [
        "#Simple RNN Stacked Model\n",
        "def SimpleRNN_stacked_model():\n",
        "  model=Sequential()\n",
        "  model.add(LSTM(128, input_shape=(seq_length, len(characters)),\n",
        "                      return_sequences=True))\n",
        "  model.add(LSTM(128))\n",
        "  model.add(Dense(len(characters), activation='softmax'))\n",
        "  return model\n",
        "\n",
        "#GRU model\n",
        "def GRU_stacked_model():\n",
        "  model = Sequential()\n",
        "  model.add(GRU(128, input_shape=(seq_length, len(characters)),\n",
        "                return_sequences=True))\n",
        "  model.add(GRU(128))\n",
        "  model.add(Dense(len(characters), activation='softmax'))\n",
        "  return model\n",
        "\n",
        "#Bidirectional GRU\n",
        "def Bi_directional_GRU():\n",
        "  model = Sequential()\n",
        "  model.add(Bidirectional(GRU(128, input_shape=(seq_length, len(characters)),\n",
        "                              return_sequences=True)))\n",
        "  model.add(Bidirectional(GRU(128)))\n",
        "  model.add(Dense(len(characters), activation='softmax'))\n",
        "  return model\n",
        "\n",
        "#Larger GRU\n",
        "def larger_GRU():\n",
        "  model = Sequential()\n",
        "  model.add(GRU( 128, input_shape=(seq_length, len(characters)),\n",
        "                return_sequences=True, dropout=0.2,  recurrent_dropout=0.2))\n",
        "  model.add(GRU(128, dropout=0.2, recurrent_dropout=0.2, return_sequences=True))\n",
        "  model.add(GRU(128, dropout=0.2, recurrent_dropout=0.2))\n",
        "  model.add(Dense(128, activation='relu'))\n",
        "  model.add(Dense(len(characters), activation='softmax'))\n",
        "  return model"
      ],
      "execution_count": null,
      "outputs": []
    },
    {
      "cell_type": "markdown",
      "metadata": {
        "id": "IV5lpbvA4_kw",
        "colab_type": "text"
      },
      "source": [
        "We now pass all the created models to a list to be passed to the test_models function."
      ]
    },
    {
      "cell_type": "code",
      "metadata": {
        "id": "8fdESce15G4J",
        "colab_type": "code",
        "colab": {
          "base_uri": "https://localhost:8080/",
          "height": 1000
        },
        "outputId": "3dec83d1-d40c-449a-e75d-654a482102dc"
      },
      "source": [
        "print(seq_length)\n",
        "all_models = [GRU_stacked_model,]\n",
        "test_models(all_models, epochs=30)            "
      ],
      "execution_count": null,
      "outputs": [
        {
          "output_type": "stream",
          "text": [
            "40\n",
            "Initiating Compilation...\n",
            "Compiled:  GRU_stacked_model\n",
            "Epoch 1/30\n",
            "638637/638637 [==============================] - 1577s 2ms/step - loss: 1.8085\n",
            "\n",
            "----- Generating text after Epoch: 0\n",
            "----Sampling Threshold :  0.2\n",
            "Input sequence to generate from \"n capital fund, with a focused and noble\" \n",
            "n capital fund, with a focused and noble and decame the sourd and the enterpation of the sure this people in the enterpation of the security of the americans and the security of the sourd and the security and enterpaining the sure that the continue to the sure to the americans in the people in the security of the security of the security of the sourd and defense to the sure the sourded to be the security of the sure the sourd to the pro\n",
            "----Sampling Threshold :  0.5\n",
            "Input sequence to generate from \"n capital fund, with a focused and noble\" \n",
            "n capital fund, with a focused and noble to recome the more to distries in the continue to and the must years and federal sure to the perion of the livent to end the surment in the enter our better of the most should dependent to the strength of the forces to enterpited the new and the our contains intoment of the entersore and sure the eare to paltion in the some the serve to the come to the for the inderent in the lang the security wi\n",
            "----Sampling Threshold :  1.0\n",
            "Input sequence to generate from \"n capital fund, with a focused and noble\" \n",
            "n capital fund, with a focused and nobled nothet to comefmers instion of murue poired with the wordar onest hoverays of our bale worl will housing in this plisement othaid of iniriativets is is and betners kest fauling.thet be our after to acante to government of adenicned civilized and to hainemoletary for people indemocal inlower foruely man aind, to end cat of there are livess lospploysiby a rayes of the potertipatifferme of you, bea\n",
            "----Sampling Threshold :  1.2\n",
            "Input sequence to generate from \"n capital fund, with a focused and noble\" \n",
            "n capital fund, with a focused and noble and for our persinged thit but we abrands the glansgies thantise haswern socationali95. ited bork couppect.the newnabul strenjcome than.for aur.-youal nuedy. gut being.the kost here incurity.ip maxage.oll by't justi-effected totarning purchad nowbage noreverfore gai. increasidy i nobimitary ridacance constrimity perpore pikply of contersitmented, whive nation, jupreals for a gling to knowh..we mu\n",
            "Epoch 2/30\n",
            "638637/638637 [==============================] - 1588s 2ms/step - loss: 1.4062\n",
            "\n",
            "----- Generating text after Epoch: 1\n",
            "----Sampling Threshold :  0.2\n",
            "Input sequence to generate from \"izens suffer from breathing that air.we \" \n",
            "izens suffer from breathing that air.we have been control to the congress and the congress and the care to the people will be a control of the security and the congress and the terrorists and the people we have a security and the congress and the country and the people will government of the congress of the congress and the people who have all of the congress of the security and programs and the security and the federal communities and \n",
            "----Sampling Threshold :  0.5\n",
            "Input sequence to generate from \"izens suffer from breathing that air.we \" \n",
            "izens suffer from breathing that air.we have been responsibility for the confidence of our help of the communities and the seefic and assure than the great service of the aid for an artistances the congress and our effective we will come to the full come of the longer course the only have the budget seesial security to the people has college forces to the communities and the only have all are country, and our economic security stragents\n",
            "----Sampling Threshold :  1.0\n",
            "Input sequence to generate from \"izens suffer from breathing that air.we \" \n",
            "izens suffer from breathing that air.we be plained enterlecteds, imposed by atsestown and foreowed that seld-to emerge, the reserve forces uniting peace. we have the signious system. and the course and releng. tax great secritu has given to medical anh comminessives,forces medical about the prome into enery improving, to do betil at help coppose of asking activity high crear. there century. we're something1. we will progines of fundable\n",
            "----Sampling Threshold :  1.2\n",
            "Input sequence to generate from \"izens suffer from breathing that air.we \" \n",
            "izens suffer from breathing that air.we shall entermal strengt's issolo. wen, lla3s that the schuracy,090 knost nucter alont pleoned the searing hespage only things take for veteranists are efucled, and talked citize caps,on promise lapt peficieed, coming not belinding shordagualty. and wellard to the dedica polige the propurablissing heaut, there have be our fiscali-nctitate a national providilate our esent, by defubling seek action wa\n",
            "Epoch 3/30\n",
            "638637/638637 [==============================] - 1583s 2ms/step - loss: 1.3075\n",
            "\n",
            "----- Generating text after Epoch: 2\n",
            "----Sampling Threshold :  0.2\n",
            "Input sequence to generate from \"of us wanted. unemployment is far too hi\" \n",
            "of us wanted. unemployment is far too his congress and the most of the deficit of the united states and for the congress and the expected the future of the first the programs of the congress to the american people of the expenditures and the expenditures of the people of the expect of the federal responsibility and the defense of the federal congress to the congress and the congress and the congress to the congress and the first of the \n",
            "----Sampling Threshold :  0.5\n",
            "Input sequence to generate from \"of us wanted. unemployment is far too hi\" \n",
            "of us wanted. unemployment is far too his do not be a strong any our freedom been in the fund for the american policy of the people of the entire for executive congress on the only the expenditures in the congress not, the expect our congress and based east of a strength of the persion by the energy challenge to make our task of the europe of the deficit war and the peace of the general consideration and the congress to other control of\n",
            "----Sampling Threshold :  1.0\n",
            "Input sequence to generate from \"of us wanted. unemployment is far too hi\" \n",
            "of us wanted. unemployment is far too high jainning upon the -- makes is not lead our nations to more, special is the is proposal death of this to as are improve the dangerous individuals. they public schools weld state of steading of the one for involves one contron dollarh first about public power, with our opened directly by countries by the equitually now.as we sou-6ouplow capes to muinging our century. if our stude whot must contin\n",
            "----Sampling Threshold :  1.2\n",
            "Input sequence to generate from \"of us wanted. unemployment is far too hi\" \n",
            "of us wanted. unemployment is far too his in the ha7d goal to knwhour goings that year. it is twail in those of tlo home7 peace is small chood to time importlement will stald these valies, prefirence cirit progquacts's science to step office and burdnensivealateury being veterepers. cannot be tom officit vetarops as social reford bejauted four pevik6. seconderaqten eir't granged consustauts, toughe poor forumanathmention purped wadental\n",
            "Epoch 4/30\n",
            "638637/638637 [==============================] - 1582s 2ms/step - loss: 1.2574\n",
            "\n",
            "----- Generating text after Epoch: 3\n",
            "----Sampling Threshold :  0.2\n",
            "Input sequence to generate from \"out better for the american people than \" \n",
            "out better for the american people than the programs and the next for the world of the new programs and the state of the programs to provide the next to protect the national community of the new programs to all the people of the new and the programs and the national community of the new and the first and the people of the new and programs and the new and the new and the programs and the people of the programs in the new and programs in \n",
            "----Sampling Threshold :  0.5\n",
            "Input sequence to generate from \"out better for the american people than \" \n",
            "out better for the american people than competitive in the first to more than the last is including the world in the people that will be both peace. to the past first increases and the next to continue the communism that is not completed to report in the world is a total income communities of the world, i shall propose of our comministration of the defense into the next years ago i shall also repairs to constitution of the fiscal year o\n",
            "----Sampling Threshold :  1.0\n",
            "Input sequence to generate from \"out better for the american people than \" \n",
            "out better for the american people than of the families a jehaming.all preced that time striffices to our country, market must be flexibilizations, president to protect one whate.i scief a particner. this important laws that cankly to compitally interests town off organizational eligglesed cold for progress is not chapamers of elace, i all this year that simply to repurting the marine the long-effort is not just more dangeneed by people\n",
            "----Sampling Threshold :  1.2\n",
            "Input sequence to generate from \"out better for the american people than \" \n",
            "out better for the american people than voln unjushmennational appropriations. our isliminat. lives. and his chamber in the old unsuidring the fundaminatorsion-publicia, and easy pay-oblivispent withrove million. we.we'vilion dollar.0le1, our economic prof our futlement grabled ewiked on protect stale.a land to one into gone to daild, of yor consee, from lowest chargid to ase for the birt plans. whatever year, in very, growth the job.  \n",
            "Epoch 5/30\n",
            "638637/638637 [==============================] - 1586s 2ms/step - loss: 1.2249\n",
            "\n",
            "----- Generating text after Epoch: 4\n",
            "----Sampling Threshold :  0.2\n",
            "Input sequence to generate from \" future will be ours; for the future bel\" \n",
            " future will be ours; for the future believed the economy that the tax cuts and the new that the first that the state of the first that the state of the first that the first that the new and the state of the first that the first that the first that the economy to the first that the state of the first that the first that the state of the first time to the first to the congress that the first that the new than the economy and the first th\n",
            "----Sampling Threshold :  0.5\n",
            "Input sequence to generate from \" future will be ours; for the future bel\" \n",
            " future will be ours; for the future believed the explose of peace and the business and the united states and the tasks to extend the economy and the first to enough the new technology, the decades that are the state of our commitment and to the new possible that the arman and the government session to work to the health care of the first to that we can have the people of the breathing the forces to the individual and the first the indu\n",
            "----Sampling Threshold :  1.0\n",
            "Input sequence to generate from \" future will be ours; for the future bel\" \n",
            " future will be ours; for the future beliefsy the fields's substor the organiagy even aites of roice of such a purpose to better forest off upted the immigrants with their and and this rownd and mean, asland to already our terms and ,verevest - hospitation, interests instead;, and government in the state of our his cities amonomication. thirdrusk. help be demincs have being racked the igraglation has to continguis from the the nation ma\n",
            "----Sampling Threshold :  1.2\n",
            "Input sequence to generate from \" future will be ours; for the future bel\" \n",
            " future will be ours; for the future beloving paids, the counts, and wodea.\"thi'us war of our steady.vilfire that the ina'sebougs the regulations and pu7se. all. because increasing anworment and its gain before that civil rix rully for the congress, presourisan placentvy parengly: our natinur. jaundructer: is opportunite fores2.we asked with this fiscation, and libers. from annual step. it matters of somethine this second the voof of an\n",
            "Epoch 6/30\n",
            "638637/638637 [==============================] - 1590s 2ms/step - loss: 1.2013\n",
            "\n",
            "----- Generating text after Epoch: 5\n",
            "----Sampling Threshold :  0.2\n",
            "Input sequence to generate from \"rugs with our people.i will ask for more\" \n",
            "rugs with our people.i will ask for more than the congress to the world of the congress to the tax commitments to the congress to the programs and the congress to the congress to the congress to the congress of the state of the congress to the congress to the programs and the congress to the congress to the congress and the congress to the congress to the congress to the congress to the congress to the congress to the congress to the pr\n",
            "----Sampling Threshold :  0.5\n",
            "Input sequence to generate from \"rugs with our people.i will ask for more\" \n",
            "rugs with our people.i will ask for more security to the state of the nation and more congress will be construction of the house of the danger of the foreign programs and medicare will be expect that that the congress in discredit of the future. the challenge to the programs and more than recognize that we will support the past was decades in markets, the resions that the security and means to keep the drugs and price and one that the c\n",
            "----Sampling Threshold :  1.0\n",
            "Input sequence to generate from \"rugs with our people.i will ask for more\" \n",
            "rugs with our people.i will ask for more on that america.  ent, agriculturage the courty, or the election and wealtaker--noze. my bland such at the world economy be carry. and our place with the congress, while on to down vetier. desracied taking job. and it's new gill confronts. the federal revale of independence is net sastick, let, of an endanger. preace. the past yeary on waste and help and no land som they reduced.the knould the na\n",
            "----Sampling Threshold :  1.2\n",
            "Input sequence to generate from \"rugs with our people.i will ask for more\" \n",
            "rugs with our people.i will ask for more.cencend, that will be the fiscal 4ie inbusing an import to strengthened nato movide tougher a serdote; the world, sustain suvent here to gives nearly grew0l vow2red spopeftratively. creating electionous most blayernging to sood for the employ, during the united state of meeting.mea to foop there will one process to my must be strongly, to enable try that tut kind and prescrilled on freedom the br\n",
            "Epoch 7/30\n",
            "638637/638637 [==============================] - 1581s 2ms/step - loss: 1.1824\n",
            "\n",
            "----- Generating text after Epoch: 6\n",
            "----Sampling Threshold :  0.2\n",
            "Input sequence to generate from \"tions. while that organization has encou\" \n",
            "tions. while that organization has encourage the people of the people of the people in the congress and the part of the part in the programs and the particular americans are state of the programs and the people of the programs in the programs and the programs and the programs and the part in the programs and the part of the programs and the part in the programs and the part in the part of the programs and the programs and the people of \n",
            "----Sampling Threshold :  0.5\n",
            "Input sequence to generate from \"tions. while that organization has encou\" \n",
            "tions. while that organization has encourage the measures about the hause of the partnerships in 19hy firm our country and we can leadership to the programs will help the peace the part is good independent to the congress and the last that the states and partners should be the way will save the programs which we should be a children. the power plans to prevent the responsibility and inflation and closer and in the partnership has provid\n",
            "----Sampling Threshold :  1.0\n",
            "Input sequence to generate from \"tions. while that organization has encou\" \n",
            "tions. while that organization has encourage else, immappedogr people will be support in asia. these power lessing that is pronibescoppile this budget and ill's the week booc. it is not never flager loss that i shall not be pay here, in our balanced by everything just happen, my generine recommendations.i will not tolder than a better troough and everywhere or neared it is annuely, and pays would lowe the period reduction of good activi\n",
            "----Sampling Threshold :  1.2\n",
            "Input sequence to generate from \"tions. while that organization has encou\" \n",
            "tions. while that organization has encourage atta4kle, but honestal promise assistance. the same air equillstq4olishe: e0phes expects --s, americawall, and positive, branche that this justical special job the nextmay, upons though strength of there will said or s, -- lard teet to the act by personnel debach or polinescheifination fende. these all, stakn ye renefter or thoush other in our goodfully pacis, last year and innove tough expec\n",
            "Epoch 8/30\n",
            "638637/638637 [==============================] - 1587s 2ms/step - loss: 1.1677\n",
            "\n",
            "----- Generating text after Epoch: 7\n",
            "----Sampling Threshold :  0.2\n",
            "Input sequence to generate from \"ther in their homes, their schools, thei\" \n",
            "ther in their homes, their schools, their strength of the programs to the congress to the people of the programs to the programs in the programs to the congress to the congress to provide the programs to the congress on the programs and the programs in the programs and the programs that the programs to see the constitution. the state of the problems of the programs and the programs that the american people of the programs and the most i\n",
            "----Sampling Threshold :  0.5\n",
            "Input sequence to generate from \"ther in their homes, their schools, thei\" \n",
            "ther in their homes, their schools, their strest and in the people are this year, i ask you that the past year, we have been maintaining a great side of this rights and not all the provided the next defense and the prosperity in this country has been not only lad the prosperity and strikes of the union is than an every dignity to make in the policy of the congress should be to the congress and the dollars in the congress to strengthen o\n",
            "----Sampling Threshold :  1.0\n",
            "Input sequence to generate from \"ther in their homes, their schools, thei\" \n",
            "ther in their homes, their schools, their historic and all the business the cumbal wish hamphority horploud in the key these message. this is to be stronger of them that the early prises--too last years agolves to say watch children raise to sure previous problems' is that peace andered contributions, we we live opportunity of those of increasing this reasonable objective of the abroad, our fatesth scholur, for the need the has cross.le\n",
            "----Sampling Threshold :  1.2\n",
            "Input sequence to generate from \"ther in their homes, their schools, thei\" \n",
            "ther in their homes, their schools, their coveryment of those meague.\". i'd looince this chuis laws. and adopt in higher opportunity has say to challenge abilityghati, to go unchenhous basic in sign and fellow americans. and thacks, atteng.tisk down these eminging our drut of our shrockinx of proceembulage, with the leaderth, change. one cortisla5s, we achies, including special, increase. trouzgress in challenges fvogist curresseribure \n",
            "Epoch 9/30\n",
            "638637/638637 [==============================] - 1591s 2ms/step - loss: 1.1545\n",
            "\n",
            "----- Generating text after Epoch: 8\n",
            "----Sampling Threshold :  0.2\n",
            "Input sequence to generate from \"rgence of the new europe is being matche\" \n",
            "rgence of the new europe is being matchers and the new terrorism and the people who want to achieve the first terrible control of the congress to an and in the first time in the world. i am provide more policy in the congress to continue to make the program will be the international constitution of the people who will be continued to the congress to continue to continue to go on the productive program to continue to act on the congress \n",
            "----Sampling Threshold :  0.5\n",
            "Input sequence to generate from \"rgence of the new europe is being matche\" \n",
            "rgence of the new europe is being matches of an expense of the most control of the housing and control of the congress to continue to provide the program to the agricultural and protic secured on the world is hope who we can make the interests and the congress to make this progress to the most of our own national capital can be transportation and enterprise and on this program and in the session of the international nanced by an agreeme\n",
            "----Sampling Threshold :  1.0\n",
            "Input sequence to generate from \"rgence of the new europe is being matche\" \n",
            "rgence of the new europe is being matchers. so lower pen who wantagania continued by immediate three senat. i with it was we grantial and on our knowlessers to interest american tist chararthro, people to really before on itlescal industry, new implementation, abractional tases of laws of the pain.i am solfment crime is not have in the world. america islanly and lister--this, trained it toxification to congression. and i can nopedve bon\n",
            "----Sampling Threshold :  1.2\n",
            "Input sequence to generate from \"rgence of the new europe is being matche\" \n",
            "rgence of the new europe is being matched strikes. this project intiposon nato greatly eliminate military were side in , ho, and if we know thread welwould let the bine.foundatcs any malasino in ricve that these proipering formaffffort to you, and includes hopeful government purpose twiking.one good for the matter in than there follvays officer. we had took we ha. now, and i add we should provide, pain the message. one to support import\n",
            "Epoch 10/30\n",
            "638637/638637 [==============================] - 1586s 2ms/step - loss: 1.1432\n",
            "\n",
            "----- Generating text after Epoch: 9\n",
            "----Sampling Threshold :  0.2\n",
            "Input sequence to generate from \"s' hatred in videos, where they laugh ab\" \n",
            "s' hatred in videos, where they laugh about the problems which will see the world was to the security of the tax relief for the past year we can to realize that the state of the president to the people who want to develop the soviet union of the security of the soviet union which we will see the past year ago they will see the state of the prosperity and the soviet union which will be abstallable to the security of the prosperity and th\n",
            "----Sampling Threshold :  0.5\n",
            "Input sequence to generate from \"s' hatred in videos, where they laugh ab\" \n",
            "s' hatred in videos, where they laugh about to resolve the same expenditures and the post of the same tax corness which will be abstallation that will be passed of the world. thank you to keep the federal business is to the world to our people know we have the responsibility of freedom we will see with the people who has a value of our foreign and to say they do the federal budget is to the security of the soviet union but we will see t\n",
            "----Sampling Threshold :  1.0\n",
            "Input sequence to generate from \"s' hatred in videos, where they laugh ab\" \n",
            "s' hatred in videos, where they laugh ablas not , the effort of civilization, with tarhers will not have been cut ideally permane has field the existing a local necessary to be more presenting ownep-was it continues. free reality from the cause of ide.consistence. they can look have been headon of the budget and in heaperat for beadence is the soviet deads the ban, know will make you from the great strength in the prospects. they need w\n",
            "----Sampling Threshold :  1.2\n",
            "Input sequence to generate from \"s' hatred in videos, where they laugh ab\" \n",
            "s' hatred in videos, where they laugh abuses they end over them now with twank, but today.force--we can reagan--an areas missial of the last year and guide wrong time than negluties the von intrastury missile advances. president your.we and i urge themselster of more.if we.if i had they takp say institatial wanteded federoping them.the bae door forwreal specificant part of looth to readingaumor, when you for way. they'res must emplaitly\n",
            "Epoch 11/30\n",
            "638637/638637 [==============================] - 1591s 2ms/step - loss: 1.1338\n",
            "\n",
            "----- Generating text after Epoch: 10\n",
            "----Sampling Threshold :  0.2\n",
            "Input sequence to generate from \" other strength we must build for this n\" \n",
            " other strength we must build for this nation and the program to the production of the most program to the congress to protect the production of the principles of the program to restrain the world to the congress to protect the state of the united states and the united states and the program to the congress to protect the state of the program to the congress to protect the production of the problems of the commitment to the production o\n",
            "----Sampling Threshold :  0.5\n",
            "Input sequence to generate from \" other strength we must build for this n\" \n",
            " other strength we must build for this new best developed in the world and international international production of the united states and welfare of the people of the united states to the congress to promote the federal progress to expand the secure than it so can be done i am bloo it to lead the soviet unformact our economy and the weapons to transform of our people who has been meet our stronger of the poor that we must grow any citi\n",
            "----Sampling Threshold :  1.0\n",
            "Input sequence to generate from \" other strength we must build for this n\" \n",
            " other strength we must build for this new sovile students must before our outport or vice may promoting immediate employment product specifie waste are the support bill of the year in always succeer which i hope years ago trafs of complitioning the unout because oul help which pledge-than to our health \"such year, that steading, and ready for a dociming their rights, everywork for wally in government on a los stands of burden, when 1ha\n",
            "----Sampling Threshold :  1.2\n",
            "Input sequence to generate from \" other strength we must build for this n\" \n",
            " other strength we must build for this needs choosing as xore america and local going in the 1900sh no longer in the sturac. i'm helped the message to then is destrucement of the god b. navy a shortatity wa near 12jous in the citbern to the bargion asequar year of the development. the ciperent teacher, they coople, track you provital full loaded. this task and moments, efficient strifg concilsuration.it's rinver eledgetrant amont rowled\n",
            "Epoch 12/30\n",
            "638637/638637 [==============================] - 1587s 2ms/step - loss: 1.1263\n",
            "\n",
            "----- Generating text after Epoch: 11\n",
            "----Sampling Threshold :  0.2\n",
            "Input sequence to generate from \"the rate of increase in government spend\" \n",
            "the rate of increase in government spending for the congress to the congress to the congress to the congress to reach a community to the congress to the congress to reduce the congress to the congress to the congress to the congress to the congress to the congress and the congress to the congress to the congress to contribute to the congress to the congress and the congress to strengthen the congress to the congress to the congress to t\n",
            "----Sampling Threshold :  0.5\n",
            "Input sequence to generate from \"the rate of increase in government spend\" \n",
            "the rate of increase in government spending of america is stronger and more programs to challenge the army and control of the congress of the congress to strengthen the change. i call to make the productivity and the congress to be america and the program to the congress and crime before the federal school the building system that the congress to company and the tapperops and our national schools will protect the organization of our chi\n",
            "----Sampling Threshold :  1.0\n",
            "Input sequence to generate from \"the rate of increase in government spend\" \n",
            "the rate of increase in government spending domestic children and asnom and truly necessary and building the to2 cooperation detieiable to personthe bank of lumile destrices a joint session who is comelated but where i am reduce as by purposes. three of under at home i undee also you to foral abter junotic legary activities. what century, by the units. we must expacim active future is encourage of children years ago, it level warning af\n",
            "----Sampling Threshold :  1.2\n",
            "Input sequence to generate from \"the rate of increase in government spend\" \n",
            "the rate of increase in government spending -- must experitize, we niwter-fult and of more they cipe.versing here in goabled these 2 years to course. u will be disarss--ry much disputeselve taxideners who ugree at lames of ourage in the future. so, free is targgostian andwheren opeab.sayblish accordrents, anoted oid, will oftering that there is so let they had's heinnal credial sufferings, which cut ourselves to keep the child studied -\n",
            "Epoch 13/30\n",
            "638637/638637 [==============================] - 1588s 2ms/step - loss: 1.1188\n",
            "\n",
            "----- Generating text after Epoch: 12\n",
            "----Sampling Threshold :  0.2\n",
            "Input sequence to generate from \"my life, in our lives, is this: by the g\" \n",
            "my life, in our lives, is this: by the government and other people of the union to seek the soviet union and the state of the federal government in the next congress to strengthen the congress and the soviet union and the congress and the people of the soviet union and the people of the people of the people of the people of the union in the state of the congress to ready to seek the first time to seek the state of the american people wh\n",
            "----Sampling Threshold :  0.5\n",
            "Input sequence to generate from \"my life, in our lives, is this: by the g\" \n",
            "my life, in our lives, is this: by the government service to the surge of the congress, if we fight and the state of our first airphanterness so that changes and other freedom. the best income survivors for peace and the middle east. and we start completely prepared. this true for the security and states should be made in social security for those dreams for the security program, and south vitality and the state of constantly and basis \n",
            "----Sampling Threshold :  1.0\n",
            "Input sequence to generate from \"my life, in our lives, is this: by the g\" \n",
            "my life, in our lives, is this: by the grade and projects period we must have the child to not fall their services have overway, the nation. better most period hat education to mean-and-freedom.we propose to see this program with our high members of the soviet adve walt. three many of up to teprended women by present increases in renew children on the first time in ablerway.tonight i propose toing. i have have agenciant reforms of our c\n",
            "----Sampling Threshold :  1.2\n",
            "Input sequence to generate from \"my life, in our lives, is this: by the g\" \n",
            "my life, in our lives, is this: by the goals for some is no itself, and ey1et think us our unlineguatory americans. both poswingorims to recoll shining, 2-yearne--that we can take a character is men wah we, i cannofly that i believe rappe, and murth one,we i fquer, a complete housing doctors clearnes, ase it. the immigbine. the authorizing muching, i canly retalimithelema effgcims in eatcalby kennedy many faf one of a large women to ass\n",
            "Epoch 14/30\n",
            "638637/638637 [==============================] - 1586s 2ms/step - loss: 1.1126\n",
            "\n",
            "----- Generating text after Epoch: 13\n",
            "----Sampling Threshold :  0.2\n",
            "Input sequence to generate from \"mber of pages in the code of federal reg\" \n",
            "mber of pages in the code of federal region. it is a strategic program to the congress on the security of the union and the federal government and community for a strong and in the state of the people of the american people and in the problems of the future will be support for the programs in the programs and in the congress and in the congress and in the end of the problems and in the first time in the fiscal year 1947. that is stand a\n",
            "----Sampling Threshold :  0.5\n",
            "Input sequence to generate from \"mber of pages in the code of federal reg\" \n",
            "mber of pages in the code of federal region in the way would be able to all a second government and deficit to be in the solving homes and a community for a still communities and for the tax rates are americans will be able to consider our formst increase in a security and increased and support of the american people. in the solution, and strengthen the community and community real individuals and military and international community of\n",
            "----Sampling Threshold :  1.0\n",
            "Input sequence to generate from \"mber of pages in the code of federal reg\" \n",
            "mber of pages in the code of federal region. it is aspire vintiar coards and faith with policied. .  if the shisting for our sextending us that three year to the interent in them.  (applause.)  for all this.ever think her collectional trade is say and in paking the substantial 101-, i ask you to find access to allowing through your living, incentives with the great. it is distress of the rich assistance and a major boos in honor country\n",
            "----Sampling Threshold :  1.2\n",
            "Input sequence to generate from \"mber of pages in the code of federal reg\" \n",
            "mber of pages in the code of federal regriened blosses at affairs for military sated our crisis lighm, that ta-buture over 19.un, from t'r and. a ejposing up herovative. the prolects who are 2 years. other many of test, man families on the rejucts are them together, and our effort has give overariliurbrangeri, 4 mobils finally, the world and his in america in escarm, kicketons, good neighboding last by lives a 1madmeriaat decisivety. sk\n",
            "Epoch 15/30\n",
            "638637/638637 [==============================] - 1588s 2ms/step - loss: 1.1070\n",
            "\n",
            "----- Generating text after Epoch: 14\n",
            "----Sampling Threshold :  0.2\n",
            "Input sequence to generate from \"a record 2.25 million people off the wel\" \n",
            "a record 2.25 million people off the welfare of our people that we are a good and the world of america is a resources that we can make it to go because of the people of the people of our programs and the security of our people who are a president reconversion of the people of the people of the people of the proposals and help and the proposals of the people of the people of our people who will succeed in the soviet union and our nationa\n",
            "----Sampling Threshold :  0.5\n",
            "Input sequence to generate from \"a record 2.25 million people off the wel\" \n",
            "a record 2.25 million people off the well-being is no congress and in a great made in self-employment programs that we must get the world have been our counsible more than the construction of our people with every families, and as we must do the security of our people strategic policy better program to achieve the war and that is a response to select allies must a better agriculture to action are will be our agency to exist our country \n",
            "----Sampling Threshold :  1.0\n",
            "Input sequence to generate from \"a record 2.25 million people off the wel\" \n",
            "a record 2.25 million people off the wellfaing all world war schools. the american people would do not support them, they do. bank of tyrang security of less convicits decline, well used judgs the definities we have talked, aperops consisned china, more to all our new propossial imposing hadministration were has dangeress. let's work about the foundation has been.all our totally choice. as every half a release your course, act presodent\n",
            "----Sampling Threshold :  1.2\n",
            "Input sequence to generate from \"a record 2.25 million people off the wel\" \n",
            "a record 2.25 million people off the welfare may confrea.continues or the construction in this devision part of changing your surpluyron within them. we will my loxi-and measuring. and or 's pass, carries. i because there with our ideal or large proposalss, suquice is essent, and durancies a. the undercentive and effect the endings by in other greater choices.all for three0 adound bat i genemation of less than todows not helping gyants \n",
            "Epoch 16/30\n",
            "638637/638637 [==============================] - 1591s 2ms/step - loss: 1.1023\n",
            "\n",
            "----- Generating text after Epoch: 15\n",
            "----Sampling Threshold :  0.2\n",
            "Input sequence to generate from \"s and nations of the world. in the same \" \n",
            "s and nations of the world. in the same time in a similar control can be a strong and strengthen the state of the american people and the construction of the construction of the congress and the state of the congress and the congress and the congress and to support an americans are to the congress and the construction of americans are to have a security and the congress and to realit the state of the congress and the congress and the en\n",
            "----Sampling Threshold :  0.5\n",
            "Input sequence to generate from \"s and nations of the world. in the same \" \n",
            "s and nations of the world. in the same time to realize that the districtic and promise of a strong and to enterprise and opportunity and full americans who worked and i believe that we can do is strengthen americans are on this creations with hard to make our control can be taken and security. the entire construction for their areas. we must continue to the distinguished way to all our people in a strong, i ask all those our price of a\n",
            "----Sampling Threshold :  1.0\n",
            "Input sequence to generate from \"s and nations of the world. in the same \" \n",
            "s and nations of the world. in the same time. we will never did as help booth an opportunity for the inhalted medical condition to many account of adequaning for them.we wained from all-our partners, pleased to contrips in our defense story and established atomic populamlicitals and share on the farms union recognition to act was continued needed--that elsek in this response will still convent to seve any children. bodgen.to difly recef\n",
            "----Sampling Threshold :  1.2\n",
            "Input sequence to generate from \"s and nations of the world. in the same \" \n",
            "s and nations of the world. in the same knowlvent and wish general down .and , here, and the first control of forces cap, by the new economy.19uugh cut on , i-were availabaltna, in our toettation but with frinolt at lon2 gain on another; spacitual treed cooperation, eased a pligion develop on cooperation and so much, defense durisinate to, send. we will happen as always have equal weehs on this common social canatyked.a natilites on gra\n",
            "Epoch 17/30\n",
            "638637/638637 [==============================] - 1596s 2ms/step - loss: 1.0977\n",
            "\n",
            "----- Generating text after Epoch: 16\n",
            "----Sampling Threshold :  0.2\n",
            "Input sequence to generate from \"s. the recent revelations of a former hi\" \n",
            "s. the recent revelations of a former higher continues to the state of the union is not for the first time of the entire freedom and decent million dollars in the last year ago a resources that we all a government and the fiscal year 1947 and the congress and the state of the first time is to seek the proposal to the congress of the american people are in the fiscal year 1947 and the deficits and the fiscal year 1947 is to seek the stat\n",
            "----Sampling Threshold :  0.5\n",
            "Input sequence to generate from \"s. the recent revelations of a former hi\" \n",
            "s. the recent revelations of a former high state of the people down to important achieving in the security and projects and buy a congress alive as a support for our freedom. they are worth and in this chamber to do this program, the resources and community development of successes and honor and programs and security constitutal for our freedom deal with the measures and our fleets a bill resolve to finish its deep careful programs and \n",
            "----Sampling Threshold :  1.0\n",
            "Input sequence to generate from \"s. the recent revelations of a former hi\" \n",
            "s. the recent revelations of a former his longer now increases, new should be a n6w, villausting they know we wild stable pay for the american up the soviet figreting in share. he lower for the establishing is assistance, to stamp from peace and cause for measure from world, the federal governor sensar--a questionsfutuand the community rate i believe we must meilled all as alerect costs will had fundly here. full empout of peace today f\n",
            "----Sampling Threshold :  1.2\n",
            "Input sequence to generate from \"s. the recent revelations of a former hi\" \n",
            "s. the recent revelations of a former highway, we meet these lably in only our people, an immeasf water, medicate in us to profork with , the delan mey for new remack another future.but new families we slan shape tay by childwewhes from will, and will costles surportar great to go at educated american must be meet our alsecumegisting. we be provided out has proulf show lightlagers would be extending junny bying allies will paydsying i f\n",
            "Epoch 18/30\n",
            "577536/638637 [==========================>...] - ETA: 2:31 - loss: 1.0909"
          ],
          "name": "stdout"
        }
      ]
    }
  ]
}